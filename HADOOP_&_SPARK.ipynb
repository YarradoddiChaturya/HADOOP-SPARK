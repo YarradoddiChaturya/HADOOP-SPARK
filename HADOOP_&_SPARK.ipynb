{
  "nbformat": 4,
  "nbformat_minor": 0,
  "metadata": {
    "colab": {
      "name": "HADOOP & SPARK.ipynb",
      "provenance": [],
      "collapsed_sections": []
    },
    "kernelspec": {
      "name": "python3",
      "display_name": "Python 3"
    },
    "language_info": {
      "name": "python"
    }
  },
  "cells": [
    {
      "cell_type": "markdown",
      "source": [
        "### Column Describtions\n",
        "##### CRIM - Per Capita crime rate \n",
        "##### ZN - Proportion of residential land zoned for lots over 25000 sq. ft\n",
        "##### INDUS - Proportion of non-retial business acres \n",
        "##### CHAS - Charles River dummy variable (1 - if tracts bounds river, 0 -otherwise)\n",
        "##### NOX - Nitrogen Oxide concentration\n",
        "##### RM - Average number of rooms per dwelling\n",
        "##### AGE - Proportion of owner-occupied unit built prior 1940\n",
        "##### DIS - Weighted MEan of distances of five Boston Employement Centres\n",
        "##### RAD - Index of accessibilities to Radial highways\n",
        "##### TAX - Full-value-property-tax rates per $10,000\n",
        "##### PT - Pupil-teacher Ratio\n",
        "##### B - the proportion of blacks \n",
        "##### LSTAT - Lower Status of the Population (%)\n",
        "##### MV - Median Value of homes (Target Variable)\n"
      ],
      "metadata": {
        "id": "XZoFQVnzJnl4"
      }
    },
    {
      "cell_type": "code",
      "source": [
        "pip install pyspark"
      ],
      "metadata": {
        "colab": {
          "base_uri": "https://localhost:8080/"
        },
        "id": "syOoN31ZPDEO",
        "outputId": "6637661a-5878-4602-a335-37bdc260238e"
      },
      "execution_count": 3,
      "outputs": [
        {
          "output_type": "stream",
          "name": "stdout",
          "text": [
            "Looking in indexes: https://pypi.org/simple, https://us-python.pkg.dev/colab-wheels/public/simple/\n",
            "Collecting pyspark\n",
            "  Downloading pyspark-3.2.1.tar.gz (281.4 MB)\n",
            "\u001b[K     |████████████████████████████████| 281.4 MB 34 kB/s \n",
            "\u001b[?25hCollecting py4j==0.10.9.3\n",
            "  Downloading py4j-0.10.9.3-py2.py3-none-any.whl (198 kB)\n",
            "\u001b[K     |████████████████████████████████| 198 kB 42.0 MB/s \n",
            "\u001b[?25hBuilding wheels for collected packages: pyspark\n",
            "  Building wheel for pyspark (setup.py) ... \u001b[?25l\u001b[?25hdone\n",
            "  Created wheel for pyspark: filename=pyspark-3.2.1-py2.py3-none-any.whl size=281853642 sha256=0250ec96dda63e42b40f00dbbeba3d6ab6a4554dbb481d4c71e39d3ae047445b\n",
            "  Stored in directory: /root/.cache/pip/wheels/9f/f5/07/7cd8017084dce4e93e84e92efd1e1d5334db05f2e83bcef74f\n",
            "Successfully built pyspark\n",
            "Installing collected packages: py4j, pyspark\n",
            "Successfully installed py4j-0.10.9.3 pyspark-3.2.1\n"
          ]
        }
      ]
    },
    {
      "cell_type": "code",
      "execution_count": 4,
      "metadata": {
        "id": "pejncyv5HPto"
      },
      "outputs": [],
      "source": [
        "# Importing Necessary Libraries\n",
        "import pyspark\n",
        "from pyspark.sql import SparkSession\n",
        "from pyspark.sql import Row\n",
        "from pyspark.ml.stat import Correlation\n",
        "from pyspark.ml.feature import VectorAssembler\n",
        "from pyspark.sql.functions import col\n",
        "from pyspark.sql.functions import *\n",
        "from pyspark.ml.feature import VectorAssembler\n",
        "from pyspark.ml.regression import LinearRegression\n",
        "from pyspark.ml.evaluation import RegressionEvaluator\n",
        "appName= \"hive_pyspark\"\n",
        "master= \"local\""
      ]
    },
    {
      "cell_type": "code",
      "source": [
        "# Creting Pyspark Session\n",
        "spark = SparkSession.builder \\\n",
        "\t.master(master).appName(appName).enableHiveSupport().getOrCreate()"
      ],
      "metadata": {
        "id": "vT_w0gynHY4h"
      },
      "execution_count": 5,
      "outputs": []
    },
    {
      "cell_type": "code",
      "source": [
        "# Checking for Pre-existing Databases\n",
        "df=spark.sql(\"show databases\")\n",
        "df.show()"
      ],
      "metadata": {
        "colab": {
          "base_uri": "https://localhost:8080/"
        },
        "id": "BY8Wl-83H8E5",
        "outputId": "5c79bcf5-98ac-4353-f8a3-c36eb35b1113"
      },
      "execution_count": 6,
      "outputs": [
        {
          "output_type": "stream",
          "name": "stdout",
          "text": [
            "+---------+\n",
            "|namespace|\n",
            "+---------+\n",
            "|  default|\n",
            "+---------+\n",
            "\n"
          ]
        }
      ]
    },
    {
      "cell_type": "markdown",
      "source": [
        "###  Read the given CSV file in a Hive table"
      ],
      "metadata": {
        "id": "1ly4Rk9PKSjc"
      }
    },
    {
      "cell_type": "code",
      "source": [
        "# Reading the given CSV file in a Hive table\n",
        "datafile=spark.read.csv(\"boston.csv\",header=True)\n",
        "datafile.show(5)\n",
        "datafile.write.saveAsTable(\"boston_table\")"
      ],
      "metadata": {
        "colab": {
          "base_uri": "https://localhost:8080/"
        },
        "id": "TXsZObsQH9j7",
        "outputId": "a0c695a9-fbf9-4723-b218-4b10e7dd4dd4"
      },
      "execution_count": 7,
      "outputs": [
        {
          "output_type": "stream",
          "name": "stdout",
          "text": [
            "+-----------+---+-----------+----+-----------+-----------+-----------+-----------+---+---+-----------+-----------+-----------+-----------+\n",
            "|       CRIM| ZN|      INDUS|CHAS|        NOX|         RM|        AGE|        DIS|RAD|TAX|         PT|          B|      LSTAT|         MV|\n",
            "+-----------+---+-----------+----+-----------+-----------+-----------+-----------+---+---+-----------+-----------+-----------+-----------+\n",
            "|    0.00632| 18|2.309999943|   0|0.537999988|6.574999809|65.19999695|4.090000153|  1|296|15.30000019|396.8999939|4.980000019|         24|\n",
            "|0.027310001|  0|7.070000172|   0|0.469000012|6.421000004|78.90000153|4.967100143|  2|242|17.79999924|396.8999939|9.140000343|21.60000038|\n",
            "|    0.02729|  0|7.070000172|   0|0.469000012|7.184999943|61.09999847|4.967100143|  2|242|17.79999924|392.8299866| 4.03000021|34.70000076|\n",
            "|0.032370001|  0|2.180000067|   0|0.458000004|6.998000145|45.79999924|6.062200069|  3|222|18.70000076|394.6300049|2.940000057|33.40000153|\n",
            "|0.069049999|  0|2.180000067|   0|0.458000004|7.146999836|54.20000076|6.062200069|  3|222|18.70000076|396.8999939|5.329999924|36.20000076|\n",
            "+-----------+---+-----------+----+-----------+-----------+-----------+-----------+---+---+-----------+-----------+-----------+-----------+\n",
            "only showing top 5 rows\n",
            "\n"
          ]
        }
      ]
    },
    {
      "cell_type": "markdown",
      "source": [
        "###  Read the data from Hive table as spark dataframe"
      ],
      "metadata": {
        "id": "C5fZxoXlKanC"
      }
    },
    {
      "cell_type": "code",
      "source": [
        "# Reading the data from Hive table as spark dataframe\n",
        "df=spark.sql(\"select * from boston_table\")\n",
        "df.show()"
      ],
      "metadata": {
        "colab": {
          "base_uri": "https://localhost:8080/"
        },
        "id": "hyKrCKCLH_Xi",
        "outputId": "e1542037-79b3-428c-b7d4-d21670042ca8"
      },
      "execution_count": 20,
      "outputs": [
        {
          "output_type": "stream",
          "name": "stdout",
          "text": [
            "+-----------+----+-----------+----+-----------+-----------+-----------+-----------+---+---+-----------+-----------+-----------+-----------+\n",
            "|       CRIM|  ZN|      INDUS|CHAS|        NOX|         RM|        AGE|        DIS|RAD|TAX|         PT|          B|      LSTAT|         MV|\n",
            "+-----------+----+-----------+----+-----------+-----------+-----------+-----------+---+---+-----------+-----------+-----------+-----------+\n",
            "|    0.00632|  18|2.309999943|   0|0.537999988|6.574999809|65.19999695|4.090000153|  1|296|15.30000019|396.8999939|4.980000019|         24|\n",
            "|0.027310001|   0|7.070000172|   0|0.469000012|6.421000004|78.90000153|4.967100143|  2|242|17.79999924|396.8999939|9.140000343|21.60000038|\n",
            "|    0.02729|   0|7.070000172|   0|0.469000012|7.184999943|61.09999847|4.967100143|  2|242|17.79999924|392.8299866| 4.03000021|34.70000076|\n",
            "|0.032370001|   0|2.180000067|   0|0.458000004|6.998000145|45.79999924|6.062200069|  3|222|18.70000076|394.6300049|2.940000057|33.40000153|\n",
            "|0.069049999|   0|2.180000067|   0|0.458000004|7.146999836|54.20000076|6.062200069|  3|222|18.70000076|396.8999939|5.329999924|36.20000076|\n",
            "|0.029850001|   0|2.180000067|   0|0.458000004|6.429999828|58.70000076|6.062200069|  3|222|18.70000076|394.1199951|5.210000038|28.70000076|\n",
            "|0.088289998|12.5|7.869999886|   0|0.523999989|6.012000084|66.59999847|5.560500145|  5|311|15.19999981|395.6000061|12.43000031|22.89999962|\n",
            "|0.144549996|12.5|7.869999886|   0|0.523999989|6.171999931|96.09999847|5.950500011|  5|311|15.19999981|396.8999939|19.14999962|27.10000038|\n",
            "|0.211239994|12.5|7.869999886|   0|0.523999989|5.631000042|        100|6.082099915|  5|311|15.19999981|386.6300049|29.93000031|       16.5|\n",
            "|0.170039997|12.5|7.869999886|   0|0.523999989|6.004000187|85.90000153|6.592100143|  5|311|15.19999981|386.7099915|17.10000038|18.89999962|\n",
            "|0.224889994|12.5|7.869999886|   0|0.523999989|6.376999855|94.30000305|6.346700191|  5|311|15.19999981| 392.519989|20.45000076|         15|\n",
            "|0.117470004|12.5|7.869999886|   0|0.523999989|6.008999825|82.90000153|6.226699829|  5|311|15.19999981|396.8999939|13.27000046|18.89999962|\n",
            "|0.093780003|12.5|7.869999886|   0|0.523999989|5.888999939|         39|5.450900078|  5|311|15.19999981|      390.5|15.71000004|21.70000076|\n",
            "|0.629760027|   0|8.140000343|   0|0.537999988|5.948999882|61.79999924|4.707499981|  4|307|         21|396.8999939|8.260000229|20.39999962|\n",
            "|0.637960017|   0|8.140000343|   0|0.537999988|6.096000195|       84.5|4.461900234|  4|307|         21| 380.019989|10.26000023|18.20000076|\n",
            "|0.627390027|   0|8.140000343|   0|0.537999988|5.834000111|       56.5|4.498600006|  4|307|         21|395.6199951|8.470000267|19.89999962|\n",
            "|1.053930044|   0|8.140000343|   0|0.537999988|5.934999943|29.29999924|4.498600006|  4|307|         21|386.8500061|6.579999924|23.10000038|\n",
            "|0.784200013|   0|8.140000343|   0|0.537999988|5.989999771|81.69999695|4.257900238|  4|307|         21|     386.75|14.67000008|       17.5|\n",
            "|0.802709997|   0|8.140000343|   0|0.537999988|5.455999851|36.59999847|3.796499968|  4|307|         21|288.9899902|11.68999958|20.20000076|\n",
            "|0.725799978|   0|8.140000343|   0|0.537999988|5.727000237|       69.5|3.796499968|  4|307|         21|390.9500122|11.27999973|18.20000076|\n",
            "+-----------+----+-----------+----+-----------+-----------+-----------+-----------+---+---+-----------+-----------+-----------+-----------+\n",
            "only showing top 20 rows\n",
            "\n"
          ]
        }
      ]
    },
    {
      "cell_type": "markdown",
      "source": [
        "### Get the correlation between dependent and independent variables\n"
      ],
      "metadata": {
        "id": "WI8cePMPK1z_"
      }
    },
    {
      "cell_type": "markdown",
      "source": [
        "##### Methord 2"
      ],
      "metadata": {
        "id": "-YKwTmVZLFKo"
      }
    },
    {
      "cell_type": "code",
      "source": [
        "# Using Stat function to get Correlation\n",
        "df.stat.corr('CRIM','MV')"
      ],
      "metadata": {
        "colab": {
          "base_uri": "https://localhost:8080/"
        },
        "id": "w03V2SULIg6Y",
        "outputId": "717b8cdd-1869-423f-a69b-5ccc7f5127f0"
      },
      "execution_count": 40,
      "outputs": [
        {
          "output_type": "execute_result",
          "data": {
            "text/plain": [
              "-0.3883046116575089"
            ]
          },
          "metadata": {},
          "execution_count": 40
        }
      ]
    },
    {
      "cell_type": "code",
      "source": [
        "# Printing the Data Types of the columns\n",
        "df.dtypes"
      ],
      "metadata": {
        "colab": {
          "base_uri": "https://localhost:8080/"
        },
        "id": "Md63xqr5Iij4",
        "outputId": "9a1621e5-079e-43c9-ffc8-9b3fa3617356"
      },
      "execution_count": 29,
      "outputs": [
        {
          "output_type": "execute_result",
          "data": {
            "text/plain": [
              "[('CRIM', 'double'),\n",
              " ('ZN', 'double'),\n",
              " ('INDUS', 'double'),\n",
              " ('CHAS', 'double'),\n",
              " ('NOX', 'double'),\n",
              " ('RM', 'double'),\n",
              " ('AGE', 'double'),\n",
              " ('DIS', 'double'),\n",
              " ('RAD', 'double'),\n",
              " ('TAX', 'double'),\n",
              " ('PT', 'double'),\n",
              " ('B', 'double'),\n",
              " ('LSTAT', 'double'),\n",
              " ('MV', 'double')]"
            ]
          },
          "metadata": {},
          "execution_count": 29
        }
      ]
    },
    {
      "cell_type": "code",
      "source": [
        "# Printing the correlation of the IDV columns & the DV column using stst function\n",
        "for col in df.dtypes:\n",
        "    print('Correlation of',col[0],'&', 'MV =',df.stat.corr(col[0],'MV'))"
      ],
      "metadata": {
        "colab": {
          "base_uri": "https://localhost:8080/"
        },
        "id": "WBG8sEEKIjvx",
        "outputId": "eda5e832-def8-45e1-e454-87c94286d054"
      },
      "execution_count": 30,
      "outputs": [
        {
          "output_type": "stream",
          "name": "stdout",
          "text": [
            "Correlation of CRIM & MV = -0.3883046116575089\n",
            "Correlation of ZN & MV = 0.360445344637529\n",
            "Correlation of INDUS & MV = -0.48372517128143366\n",
            "Correlation of CHAS & MV = 0.1752601777529185\n",
            "Correlation of NOX & MV = -0.4273207763683772\n",
            "Correlation of RM & MV = 0.6953599371272672\n",
            "Correlation of AGE & MV = -0.3769545671428867\n",
            "Correlation of DIS & MV = 0.24992873873512172\n",
            "Correlation of RAD & MV = -0.38162623156691683\n",
            "Correlation of TAX & MV = -0.46853593528654536\n",
            "Correlation of PT & MV = -0.5077867038116086\n",
            "Correlation of B & MV = 0.3334608226834165\n",
            "Correlation of LSTAT & MV = -0.7376627294671615\n",
            "Correlation of MV & MV = 1.0\n"
          ]
        }
      ]
    },
    {
      "cell_type": "markdown",
      "source": [
        "### Build a linear regression model to predict house price"
      ],
      "metadata": {
        "id": "y33RcEm2LMVz"
      }
    },
    {
      "cell_type": "code",
      "source": [
        "# Using Vector assembler to transform each row into a vector\n",
        "vectorAssembler = VectorAssembler(inputCols = ['CRIM', 'ZN', 'INDUS', 'CHAS', 'NOX', 'RM', 'AGE', 'DIS', 'RAD', 'TAX', 'PT', 'B', 'LSTAT'], outputCol = 'features')\n",
        "vhouse_df = vectorAssembler.transform(df)\n",
        "vhouse_df = vhouse_df.select(['features', 'MV'])\n",
        "vhouse_df.show(3)"
      ],
      "metadata": {
        "colab": {
          "base_uri": "https://localhost:8080/"
        },
        "id": "sukC68iwIlMh",
        "outputId": "9f97a1df-1b96-4405-c2d7-e318b7b3d3a4"
      },
      "execution_count": 31,
      "outputs": [
        {
          "output_type": "stream",
          "name": "stdout",
          "text": [
            "+--------------------+-----------+\n",
            "|            features|         MV|\n",
            "+--------------------+-----------+\n",
            "|[0.00632,18.0,2.3...|       24.0|\n",
            "|[0.027310001,0.0,...|21.60000038|\n",
            "|[0.02729,0.0,7.07...|34.70000076|\n",
            "+--------------------+-----------+\n",
            "only showing top 3 rows\n",
            "\n"
          ]
        }
      ]
    },
    {
      "cell_type": "code",
      "source": [
        "# Spliting the dataset into training and testing datasets\n",
        "splits = vhouse_df.randomSplit([0.7, 0.3])\n",
        "train_df = splits[0]\n",
        "test_df = splits[1]"
      ],
      "metadata": {
        "id": "tA_KUH9NImyx"
      },
      "execution_count": 32,
      "outputs": []
    },
    {
      "cell_type": "code",
      "source": [
        "# Building a Linear Regression Model\n",
        "lr = LinearRegression(featuresCol = 'features', labelCol='MV', maxIter=10, regParam=0.3, elasticNetParam=0.8)\n",
        "# fitting the Linear Regression Model\n",
        "lr_model = lr.fit(train_df)\n",
        "print(\"Coefficients: \" + str(lr_model.coefficients))\n",
        "print(\"Intercept: \" + str(lr_model.intercept))"
      ],
      "metadata": {
        "colab": {
          "base_uri": "https://localhost:8080/"
        },
        "id": "NbUjSR4xIoCZ",
        "outputId": "f74fc289-de1a-4cf9-d8f3-244a8fbeb19f"
      },
      "execution_count": 34,
      "outputs": [
        {
          "output_type": "stream",
          "name": "stdout",
          "text": [
            "Coefficients: [-0.052058153125731824,0.015160702613403361,-0.0022856544276884296,2.3304123860866874,-9.084689346704783,4.875328751573695,0.0,-0.7138562453800125,0.0,0.0,-0.7287742327610004,0.008863091711978015,-0.475254299463443]\n",
            "Intercept: 16.08220721746163\n"
          ]
        }
      ]
    },
    {
      "cell_type": "markdown",
      "source": [
        "### Evaluate the Linear Regression model by getting the RMSE and R-squared values\n"
      ],
      "metadata": {
        "id": "Ywloe5koLS_g"
      }
    },
    {
      "cell_type": "code",
      "source": [
        "# Printing the RMSE & R2 Values of the model\n",
        "trainingSummary = lr_model.summary\n",
        "print(\"RMSE: %f\" % trainingSummary.rootMeanSquaredError)\n",
        "print(\"r2: %f\" % trainingSummary.r2)"
      ],
      "metadata": {
        "colab": {
          "base_uri": "https://localhost:8080/"
        },
        "id": "Ny4wwrkYIpMZ",
        "outputId": "676c037b-cd33-47a5-83c6-13d559b3275b"
      },
      "execution_count": 35,
      "outputs": [
        {
          "output_type": "stream",
          "name": "stdout",
          "text": [
            "RMSE: 4.954361\n",
            "r2: 0.729889\n"
          ]
        }
      ]
    },
    {
      "cell_type": "code",
      "source": [
        "# Comparing the Predicted and Visually\n",
        "lr_predictions = lr_model.transform(test_df)\n",
        "lr_predictions.select(\"prediction\",\"MV\",\"features\").show(5)\n",
        "lr_evaluator = RegressionEvaluator(predictionCol=\"prediction\", \\\n",
        "                 labelCol=\"MV\",metricName=\"r2\")\n",
        "print(\"R Squared (R2) on test data = %g\" % lr_evaluator.evaluate(lr_predictions))"
      ],
      "metadata": {
        "colab": {
          "base_uri": "https://localhost:8080/"
        },
        "id": "FWTmMTwrIqmB",
        "outputId": "5278b810-b529-4e16-8624-572072d850f4"
      },
      "execution_count": 36,
      "outputs": [
        {
          "output_type": "stream",
          "name": "stdout",
          "text": [
            "+------------------+-----------+--------------------+\n",
            "|        prediction|         MV|            features|\n",
            "+------------------+-----------+--------------------+\n",
            "| 39.40886548852506|       50.0|[0.01381,80.0,0.4...|\n",
            "|26.718045209135067|       33.0|[0.019509999,17.5...|\n",
            "|21.296230792989718|20.10000038|[0.019649999,80.0...|\n",
            "|31.780456334234508|31.10000038|[0.02187,60.0,2.9...|\n",
            "|29.827737626408847|31.20000076|[0.03049,55.0,3.7...|\n",
            "+------------------+-----------+--------------------+\n",
            "only showing top 5 rows\n",
            "\n",
            "R Squared (R2) on test data = 0.667449\n"
          ]
        }
      ]
    },
    {
      "cell_type": "code",
      "source": [
        "# Print RMSE for Test Data\n",
        "test_result = lr_model.evaluate(test_df)\n",
        "print(\"Root Mean Squared Error (RMSE) on test data = %g\" % test_result.rootMeanSquaredError)"
      ],
      "metadata": {
        "colab": {
          "base_uri": "https://localhost:8080/"
        },
        "id": "hejm2YmgIscK",
        "outputId": "e7044bc3-d3c0-4684-e6de-6c3e79d01daa"
      },
      "execution_count": 37,
      "outputs": [
        {
          "output_type": "stream",
          "name": "stdout",
          "text": [
            "Root Mean Squared Error (RMSE) on test data = 4.6775\n"
          ]
        }
      ]
    },
    {
      "cell_type": "code",
      "source": [
        "# Printing Residuals\n",
        "print(\"numIterations: %d\" % trainingSummary.totalIterations)\n",
        "print(\"objectiveHistory: %s\" % str(trainingSummary.objectiveHistory))\n",
        "trainingSummary.residuals.show()"
      ],
      "metadata": {
        "colab": {
          "base_uri": "https://localhost:8080/"
        },
        "id": "xGHSNDR4It_B",
        "outputId": "88adff11-9743-463c-d16d-a6a3b826f181"
      },
      "execution_count": 38,
      "outputs": [
        {
          "output_type": "stream",
          "name": "stdout",
          "text": [
            "numIterations: 10\n",
            "objectiveHistory: [0.5, 0.4312430719370162, 0.23160069435274414, 0.20875888867323367, 0.1776149405452768, 0.174292059247129, 0.17346225737163024, 0.1727680460535628, 0.1719681969014127, 0.17133318021467492, 0.17124056704309146]\n"
          ]
        },
        {
          "output_type": "stream",
          "name": "stderr",
          "text": [
            "/usr/local/lib/python3.7/dist-packages/pyspark/sql/context.py:127: FutureWarning: Deprecated in 3.0.0. Use SparkSession.builder.getOrCreate() instead.\n",
            "  FutureWarning\n"
          ]
        },
        {
          "output_type": "stream",
          "name": "stdout",
          "text": [
            "+-------------------+\n",
            "|          residuals|\n",
            "+-------------------+\n",
            "| -6.598290419802584|\n",
            "| 0.4370511636233374|\n",
            "| -6.057374402630835|\n",
            "|0.23507550456013604|\n",
            "|  4.306663367486223|\n",
            "| 0.8277298230094274|\n",
            "| -0.148800660600795|\n",
            "|-1.8864481842497405|\n",
            "| -3.458240947044267|\n",
            "|  7.350843249974005|\n",
            "|   7.96581711383044|\n",
            "|    3.3592265714117|\n",
            "| 0.8188559012497336|\n",
            "| -3.448206832938766|\n",
            "|  9.370192948479037|\n",
            "|-1.6717296610909074|\n",
            "| 4.8043120997907565|\n",
            "|-10.039493509124977|\n",
            "| -4.441407908596759|\n",
            "| 2.8184193731676928|\n",
            "+-------------------+\n",
            "only showing top 20 rows\n",
            "\n"
          ]
        }
      ]
    },
    {
      "cell_type": "code",
      "source": [
        "# Checking the predictions\n",
        "predictions = lr_model.transform(test_df)\n",
        "predictions.select(\"prediction\",\"MV\",\"features\").show()"
      ],
      "metadata": {
        "colab": {
          "base_uri": "https://localhost:8080/"
        },
        "id": "eZFznwofIvdi",
        "outputId": "933748ee-1ff2-4e81-a753-65e48a7dcfc3"
      },
      "execution_count": 39,
      "outputs": [
        {
          "output_type": "stream",
          "name": "stdout",
          "text": [
            "+------------------+-----------+--------------------+\n",
            "|        prediction|         MV|            features|\n",
            "+------------------+-----------+--------------------+\n",
            "| 39.40886548852506|       50.0|[0.01381,80.0,0.4...|\n",
            "|26.718045209135067|       33.0|[0.019509999,17.5...|\n",
            "|21.296230792989718|20.10000038|[0.019649999,80.0...|\n",
            "|31.780456334234508|31.10000038|[0.02187,60.0,2.9...|\n",
            "|29.827737626408847|31.20000076|[0.03049,55.0,3.7...|\n",
            "|20.367368222757325|       17.5|[0.031129999,0.0,...|\n",
            "| 30.17707909321033|33.40000153|[0.032370001,0.0,...|\n",
            "| 32.94006729351027|34.90000153|[0.03359,75.0,2.9...|\n",
            "| 28.36818296962332|24.10000038|[0.034449998,82.5...|\n",
            "| 22.94367844861062|20.89999962|[0.03548,80.0,3.6...|\n",
            "|24.835426248519568|22.89999962|[0.03551,25.0,4.8...|\n",
            "| 26.25895063781101|23.20000076|[0.038710002,52.5...|\n",
            "| 27.26792371228047|       22.0|[0.03932,0.0,3.41...|\n",
            "|21.539118419160772|21.10000038|[0.039609998,0.0,...|\n",
            "| 28.67586727262313|       28.0|[0.041129999,25.0...|\n",
            "|27.404032032603443|22.89999962|[0.042029999,28.0...|\n",
            "| 25.36126527148972|20.60000038|[0.042939998,28.0...|\n",
            "|26.644820195518474|24.79999924|[0.042970002,52.5...|\n",
            "|24.081134415949677|19.39999962|[0.043790001,80.0...|\n",
            "|22.949314029773834|20.60000038|[0.04527,0.0,11.9...|\n",
            "+------------------+-----------+--------------------+\n",
            "only showing top 20 rows\n",
            "\n"
          ]
        }
      ]
    }
  ]
}